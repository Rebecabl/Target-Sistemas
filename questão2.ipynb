{
  "nbformat": 4,
  "nbformat_minor": 0,
  "metadata": {
    "colab": {
      "provenance": []
    },
    "kernelspec": {
      "name": "python3",
      "display_name": "Python 3"
    },
    "language_info": {
      "name": "python"
    }
  },
  "cells": [
    {
      "cell_type": "markdown",
      "source": [
        "**2) Dado a sequência de Fibonacci, onde se inicia por 0 e 1 e o próximo valor sempre será a soma dos 2 valores anteriores (exemplo: 0, 1, 1, 2, 3, 5, 8, 13, 21, 34...), escreva um programa na linguagem que desejar onde, informado um número, ele calcule a sequência de Fibonacci e retorne uma mensagem avisando se o número informado pertence ou não a sequência.**\n",
        "\n",
        "\n",
        "IMPORTANTE:\n",
        "Esse número pode ser informado através de qualquer entrada de sua preferência ou pode ser previamente definido no código;\n",
        "\n",
        "\n",
        "\n"
      ],
      "metadata": {
        "id": "2ouu-X-uC-WW"
      }
    },
    {
      "cell_type": "code",
      "execution_count": 3,
      "metadata": {
        "colab": {
          "base_uri": "https://localhost:8080/"
        },
        "id": "MhF1YJpNAf_J",
        "outputId": "f7c3d101-51a6-4d3b-ce12-c6a21c0ed464"
      },
      "outputs": [
        {
          "output_type": "stream",
          "name": "stdout",
          "text": [
            "21 pertence à sequência de Fibonacci.\n"
          ]
        }
      ],
      "source": [
        "def verifica_fibonacci(numero):\n",
        "    a, b = 0, 1\n",
        "    while b < numero:\n",
        "        a, b = b, a + b\n",
        "    return b == numero\n",
        "\n",
        "numero_informado = 21\n",
        "if verifica_fibonacci(numero_informado):\n",
        "    print(f\"{numero_informado} pertence à sequência de Fibonacci.\")\n",
        "else:\n",
        "    print(f\"{numero_informado} NÃO pertence à sequência de Fibonacci.\")\n"
      ]
    }
  ]
}