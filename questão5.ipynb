{
  "nbformat": 4,
  "nbformat_minor": 0,
  "metadata": {
    "colab": {
      "provenance": []
    },
    "kernelspec": {
      "name": "python3",
      "display_name": "Python 3"
    },
    "language_info": {
      "name": "python"
    }
  },
  "cells": [
    {
      "cell_type": "markdown",
      "source": [
        "5) Escreva um programa que inverta os caracteres de um string.\n",
        "\n",
        "IMPORTANTE:\n",
        "a) Essa string pode ser informada através de qualquer entrada de sua preferência ou pode ser previamente definida no código;\n",
        "b) Evite usar funções prontas, como, por exemplo, reverse;\n"
      ],
      "metadata": {
        "id": "2ouu-X-uC-WW"
      }
    },
    {
      "cell_type": "code",
      "execution_count": 8,
      "metadata": {
        "colab": {
          "base_uri": "https://localhost:8080/"
        },
        "id": "MhF1YJpNAf_J",
        "outputId": "9c325e32-4b3d-4069-ccbe-e8b0c11d6c78"
      },
      "outputs": [
        {
          "output_type": "stream",
          "name": "stdout",
          "text": [
            "String original: Hello, World!\n",
            "String invertida: !dlroW ,olleH\n"
          ]
        }
      ],
      "source": [
        "def inverter_string_manual(s):\n",
        "    caracteres = list(s)\n",
        "    tamanho = len(caracteres)\n",
        "    for i in range(tamanho // 2):\n",
        "        temp = caracteres[i]\n",
        "        caracteres[i] = caracteres[tamanho - i - 1]\n",
        "        caracteres[tamanho - i - 1] = temp\n",
        "    string_invertida = ''.join(caracteres)\n",
        "    return string_invertida\n",
        "\n",
        "entrada = \"Hello, World!\"\n",
        "saida = inverter_string_manual(entrada)\n",
        "\n",
        "print(f\"String original: {entrada}\")\n",
        "print(f\"String invertida: {saida}\")\n"
      ]
    }
  ]
}