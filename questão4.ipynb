{
  "nbformat": 4,
  "nbformat_minor": 0,
  "metadata": {
    "colab": {
      "provenance": []
    },
    "kernelspec": {
      "name": "python3",
      "display_name": "Python 3"
    },
    "language_info": {
      "name": "python"
    }
  },
  "cells": [
    {
      "cell_type": "markdown",
      "source": [
        "4) Dado o valor de faturamento mensal de uma distribuidora, detalhado por estado:\n",
        "\n",
        "SP – R$67.836,43\n",
        "RJ – R$36.678,66\n",
        "MG – R$29.229,88\n",
        "ES – R$27.165,48\n",
        "Outros – R$19.849,53\n",
        "\n",
        "Escreva um programa na linguagem que desejar onde calcule o percentual de representação que cada estado teve dentro do valor total mensal da distribuidora."
      ],
      "metadata": {
        "id": "2ouu-X-uC-WW"
      }
    },
    {
      "cell_type": "code",
      "execution_count": 12,
      "metadata": {
        "colab": {
          "base_uri": "https://localhost:8080/"
        },
        "id": "MhF1YJpNAf_J",
        "outputId": "98c1034f-9b1a-4eb5-9d06-a98895258d27"
      },
      "outputs": [
        {
          "output_type": "stream",
          "name": "stdout",
          "text": [
            "Percentual de representação por estado:\n",
            "SP: 37.53%\n",
            "RJ: 20.29%\n",
            "MG: 16.17%\n",
            "ES: 15.03%\n",
            "Outros: 10.98%\n"
          ]
        }
      ],
      "source": [
        "faturamento_por_estado = {\n",
        "    \"SP\": 67836.43,\n",
        "    \"RJ\": 36678.66,\n",
        "    \"MG\": 29229.88,\n",
        "    \"ES\": 27165.48,\n",
        "    \"Outros\": 19849.53\n",
        "}\n",
        "\n",
        "\n",
        "valor_total_mensal = sum(faturamento_por_estado.values())\n",
        "\n",
        "percentuais_por_estado = {estado: (valor / valor_total_mensal) * 100 for estado, valor in faturamento_por_estado.items()}\n",
        "\n",
        "\n",
        "print(\"Percentual de representação por estado:\")\n",
        "for estado, percentual in percentuais_por_estado.items():\n",
        "    print(f\"{estado}: {percentual:.2f}%\")\n"
      ]
    }
  ]
}