{
  "nbformat": 4,
  "nbformat_minor": 0,
  "metadata": {
    "colab": {
      "provenance": []
    },
    "kernelspec": {
      "name": "python3",
      "display_name": "Python 3"
    },
    "language_info": {
      "name": "python"
    }
  },
  "cells": [
    {
      "cell_type": "markdown",
      "source": [
        "**3) Dado um vetor que guarda o valor de faturamento diário de uma distribuidora, faça um programa, na linguagem que desejar, que calcule e retorne:\n",
        "• O menor valor de faturamento ocorrido em um dia do mês;\n",
        "• O maior valor de faturamento ocorrido em um dia do mês;\n",
        "• Número de dias no mês em que o valor de faturamento diário foi superior à média mensal.**\n",
        "\n",
        "IMPORTANTE:\n",
        "a) Usar o json ou xml disponível como fonte dos dados do faturamento mensal;\n",
        "b) Podem existir dias sem faturamento, como nos finais de semana e feriados. Estes dias devem ser ignorados no cálculo da média;\n",
        "\n"
      ],
      "metadata": {
        "id": "2ouu-X-uC-WW"
      }
    },
    {
      "cell_type": "code",
      "execution_count": 6,
      "metadata": {
        "colab": {
          "base_uri": "https://localhost:8080/"
        },
        "id": "MhF1YJpNAf_J",
        "outputId": "d2978244-ede9-4f66-9c56-aaee7129301a"
      },
      "outputs": [
        {
          "output_type": "stream",
          "name": "stdout",
          "text": [
            "Menor valor de faturamento: 800\n",
            "Maior valor de faturamento: 2000\n",
            "Número de dias acima da média: 4\n"
          ]
        }
      ],
      "source": [
        "import json\n",
        "\n",
        "dados_faturamento = '''\n",
        "{\n",
        "    \"1\": 1000,\n",
        "    \"2\": 1200,\n",
        "    \"3\": 800,\n",
        "    \"4\": 1500,\n",
        "    \"5\": 0,\n",
        "    \"6\": 2000,\n",
        "    \"7\": 1800,\n",
        "    \"8\": 1300,\n",
        "    \"9\": 0,\n",
        "    \"10\": 1600\n",
        "}\n",
        "'''\n",
        "\n",
        "faturamento_diario = json.loads(dados_faturamento)\n",
        "\n",
        "faturamento_diario = {dia: valor for dia, valor in faturamento_diario.items() if valor != 0}\n",
        "\n",
        "menor_valor = min(faturamento_diario.values())\n",
        "maior_valor = max(faturamento_diario.values())\n",
        "\n",
        "valores_faturamento = list(faturamento_diario.values())\n",
        "media_mensal = sum(valores_faturamento) / len(valores_faturamento)\n",
        "\n",
        "dias_acima_da_media = sum(valor > media_mensal for valor in valores_faturamento)\n",
        "\n",
        "print(f\"Menor valor de faturamento: {menor_valor}\")\n",
        "print(f\"Maior valor de faturamento: {maior_valor}\")\n",
        "print(f\"Número de dias acima da média: {dias_acima_da_media}\")\n"
      ]
    }
  ]
}